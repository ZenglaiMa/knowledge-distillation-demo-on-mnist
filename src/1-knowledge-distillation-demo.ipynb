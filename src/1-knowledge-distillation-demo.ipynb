{
 "cells": [
  {
   "cell_type": "markdown",
   "metadata": {},
   "source": [
    "在 MNIST 数据集上做一个知识蒸馏的小 demo."
   ]
  },
  {
   "cell_type": "code",
   "execution_count": 1,
   "metadata": {},
   "outputs": [],
   "source": [
    "import torch\n",
    "import torchvision\n",
    "import torch.nn as nn\n",
    "import torch.optim as optim\n",
    "import torch.utils.data as data\n",
    "\n",
    "from tqdm import tqdm"
   ]
  },
  {
   "cell_type": "code",
   "execution_count": 3,
   "metadata": {},
   "outputs": [],
   "source": [
    "torch.manual_seed(42)  # 固定 CPU 随机数种子\n",
    "torch.cuda.manual_seed(42)  # 固定 GPU 随机数种子\n",
    "\n",
    "device = torch.device('cuda:0' if torch.cuda.is_available() else 'cpu')"
   ]
  },
  {
   "cell_type": "code",
   "execution_count": 4,
   "metadata": {},
   "outputs": [],
   "source": [
    "train_data = torchvision.datasets.MNIST(\n",
    "    root='../data/',\n",
    "    train=True,\n",
    "    transform=torchvision.transforms.ToTensor(),\n",
    "    download=True\n",
    ")\n",
    "\n",
    "test_data = torchvision.datasets.MNIST(\n",
    "    root='../data/',\n",
    "    train=False,\n",
    "    transform=torchvision.transforms.ToTensor(),\n",
    "    download=True\n",
    ")\n",
    "\n",
    "train_loader = data.DataLoader(dataset=train_data, batch_size=32, shuffle=True)\n",
    "test_loader = data.DataLoader(dataset=test_data, batch_size=32, shuffle=False)"
   ]
  },
  {
   "cell_type": "markdown",
   "metadata": {},
   "source": [
    "定义 Teacher 模型"
   ]
  },
  {
   "cell_type": "code",
   "execution_count": 5,
   "metadata": {},
   "outputs": [],
   "source": [
    "class TeacherModel(nn.Module):\n",
    "    def __init__(self, num_classes=10, dropout_rate=0.5):\n",
    "        super(TeacherModel, self).__init__()\n",
    "        self.fc1 = nn.Linear(in_features=784, out_features=1200)\n",
    "        self.fc2 = nn.Linear(in_features=1200, out_features=1200)\n",
    "        self.fc3 = nn.Linear(in_features=1200, out_features=num_classes)\n",
    "        self.relu = nn.ReLU()\n",
    "        self.dropout = nn.Dropout(dropout_rate)\n",
    "\n",
    "    def forward(self, x):\n",
    "        x = x.reshape(-1, 784)\n",
    "        x = self.relu(self.dropout(self.fc1(x)))\n",
    "        x = self.relu(self.dropout(self.fc2(x)))\n",
    "        x = self.fc3(x)\n",
    "\n",
    "        return x"
   ]
  },
  {
   "cell_type": "markdown",
   "metadata": {},
   "source": [
    "定义 Student 模型"
   ]
  },
  {
   "cell_type": "code",
   "execution_count": 6,
   "metadata": {},
   "outputs": [],
   "source": [
    "class StudentModel(nn.Module):\n",
    "    def __init__(self, num_classes=10):\n",
    "        super(StudentModel, self).__init__()\n",
    "        self.fc1 = nn.Linear(in_features=784, out_features=20)\n",
    "        self.fc2 = nn.Linear(in_features=20, out_features=20)\n",
    "        self.fc3 = nn.Linear(in_features=20, out_features=num_classes)\n",
    "        self.relu = nn.ReLU()\n",
    "\n",
    "    def forward(self, x):\n",
    "        x = x.reshape(-1, 784)\n",
    "        x = self.relu(self.fc1(x))\n",
    "        x = self.relu(self.fc2(x))\n",
    "        x = self.fc3(x)\n",
    "\n",
    "        return x"
   ]
  },
  {
   "cell_type": "markdown",
   "metadata": {},
   "source": [
    "训练 Teacher 模型"
   ]
  },
  {
   "cell_type": "code",
   "execution_count": 7,
   "metadata": {},
   "outputs": [],
   "source": [
    "teacher_model = TeacherModel().to(device)\n",
    "optimizer = optim.Adam(teacher_model.parameters(), lr=3e-4)\n",
    "criterion = nn.CrossEntropyLoss()"
   ]
  },
  {
   "cell_type": "code",
   "execution_count": 8,
   "metadata": {},
   "outputs": [
    {
     "name": "stderr",
     "output_type": "stream",
     "text": [
      "Epoch 1/5: 100%|██████████| 1875/1875 [01:39<00:00, 18.84it/s]\n",
      "Epoch 2/5: 100%|██████████| 1875/1875 [01:43<00:00, 18.16it/s]\n",
      "Epoch 3/5: 100%|██████████| 1875/1875 [01:43<00:00, 18.08it/s]\n",
      "Epoch 4/5: 100%|██████████| 1875/1875 [01:46<00:00, 17.57it/s]\n",
      "Epoch 5/5: 100%|██████████| 1875/1875 [01:54<00:00, 16.43it/s]\n"
     ]
    }
   ],
   "source": [
    "# 训练 Teacher 模型\n",
    "teacher_model.train()\n",
    "epochs = 5\n",
    "for epoch in range(epochs):\n",
    "    for images, labels in tqdm(train_loader, desc='Epoch {}/{}'.format(epoch + 1, epochs)):\n",
    "        images = images.to(device)\n",
    "        labels = labels.to(device)\n",
    "\n",
    "        # 前向传播\n",
    "        preds = teacher_model(images)\n",
    "        loss = criterion(preds, labels)\n",
    "\n",
    "        # 反向传播\n",
    "        optimizer.zero_grad()\n",
    "        loss.backward()\n",
    "        optimizer.step()"
   ]
  },
  {
   "cell_type": "code",
   "execution_count": 9,
   "metadata": {},
   "outputs": [
    {
     "name": "stderr",
     "output_type": "stream",
     "text": [
      "100%|██████████| 313/313 [00:03<00:00, 93.96it/s] "
     ]
    },
    {
     "name": "stdout",
     "output_type": "stream",
     "text": [
      "Teacher 模型预测正确的数量为: 9812\n"
     ]
    },
    {
     "name": "stderr",
     "output_type": "stream",
     "text": [
      "\n"
     ]
    }
   ],
   "source": [
    "# 评估 Teacher 模型\n",
    "teacher_model.eval()\n",
    "num_correct = 0\n",
    "with torch.no_grad():\n",
    "    for images, labels in tqdm(test_loader):\n",
    "        images = images.to(device)\n",
    "        labels = labels.to(device)\n",
    "\n",
    "        preds = teacher_model(images)\n",
    "        num_correct += preds.argmax(dim=1).eq(labels).sum().item()\n",
    "\n",
    "    print('Teacher 模型预测正确的数量为: {}'.format(num_correct))"
   ]
  },
  {
   "cell_type": "markdown",
   "metadata": {},
   "source": [
    "不使用知识蒸馏技术，训练 Student 模型"
   ]
  },
  {
   "cell_type": "code",
   "execution_count": 10,
   "metadata": {},
   "outputs": [],
   "source": [
    "student_model = StudentModel().to(device)\n",
    "optimizer = optim.Adam(student_model.parameters(), lr=3e-4)\n",
    "criterion = nn.CrossEntropyLoss()"
   ]
  },
  {
   "cell_type": "code",
   "execution_count": 11,
   "metadata": {},
   "outputs": [
    {
     "name": "stderr",
     "output_type": "stream",
     "text": [
      "Epoch 1/5: 100%|██████████| 1875/1875 [00:19<00:00, 94.03it/s] \n",
      "Epoch 2/5: 100%|██████████| 1875/1875 [00:16<00:00, 111.59it/s]\n",
      "Epoch 3/5: 100%|██████████| 1875/1875 [00:18<00:00, 102.66it/s]\n",
      "Epoch 4/5: 100%|██████████| 1875/1875 [00:23<00:00, 80.87it/s]\n",
      "Epoch 5/5: 100%|██████████| 1875/1875 [00:24<00:00, 75.97it/s]\n"
     ]
    }
   ],
   "source": [
    "# 训练 Student 模型\n",
    "student_model.train()\n",
    "epochs = 5\n",
    "for epoch in range(epochs):\n",
    "    for images, labels in tqdm(train_loader, desc='Epoch {}/{}'.format(epoch + 1, epochs)):\n",
    "        images = images.to(device)\n",
    "        labels = labels.to(device)\n",
    "\n",
    "        # 前向传播\n",
    "        preds = student_model(images)\n",
    "        loss = criterion(preds, labels)\n",
    "\n",
    "        # 反向传播\n",
    "        optimizer.zero_grad()\n",
    "        loss.backward()\n",
    "        optimizer.step()"
   ]
  },
  {
   "cell_type": "code",
   "execution_count": 12,
   "metadata": {},
   "outputs": [
    {
     "name": "stderr",
     "output_type": "stream",
     "text": [
      "100%|██████████| 313/313 [00:03<00:00, 95.71it/s] \n"
     ]
    },
    {
     "name": "stdout",
     "output_type": "stream",
     "text": [
      "Student 模型预测正确的数量为: 9322\n"
     ]
    }
   ],
   "source": [
    "# 评估 Student 模型\n",
    "student_model.eval()\n",
    "num_correct = 0\n",
    "with torch.no_grad():\n",
    "    for images, labels in tqdm(test_loader):\n",
    "        images = images.to(device)\n",
    "        labels = labels.to(device)\n",
    "\n",
    "        preds = student_model(images)\n",
    "        num_correct += preds.argmax(dim=1).eq(labels).sum().item()\n",
    "\n",
    "    print('Student 模型预测正确的数量为: {}'.format(num_correct))"
   ]
  },
  {
   "cell_type": "markdown",
   "metadata": {},
   "source": [
    "使用知识蒸馏来训练 Student 模型"
   ]
  },
  {
   "cell_type": "code",
   "execution_count": 16,
   "metadata": {},
   "outputs": [],
   "source": [
    "# 准备 Teacher 模型\n",
    "teacher_model.eval()\n",
    "# 准备新的 Student 模型\n",
    "student_model = StudentModel().to(device)\n",
    "# 定义 hard loss\n",
    "hard_loss = nn.CrossEntropyLoss()\n",
    "# 定义 soft loss\n",
    "soft_loss = nn.KLDivLoss(reduction='batchmean')\n",
    "# hard loss 占比\n",
    "alpha = 0.5\n",
    "# 蒸馏温度\n",
    "temperature = 20\n",
    "# 定义优化器\n",
    "optimizer = optim.Adam(student_model.parameters(), lr=3e-4)"
   ]
  },
  {
   "cell_type": "code",
   "execution_count": 17,
   "metadata": {},
   "outputs": [
    {
     "name": "stderr",
     "output_type": "stream",
     "text": [
      "Epoch 1/5: 100%|██████████| 1875/1875 [00:33<00:00, 55.87it/s]\n",
      "Epoch 2/5: 100%|██████████| 1875/1875 [00:33<00:00, 55.93it/s]\n",
      "Epoch 3/5: 100%|██████████| 1875/1875 [00:33<00:00, 55.46it/s]\n",
      "Epoch 4/5: 100%|██████████| 1875/1875 [00:35<00:00, 53.15it/s]\n",
      "Epoch 5/5: 100%|██████████| 1875/1875 [00:32<00:00, 57.81it/s]\n"
     ]
    }
   ],
   "source": [
    "# 训练 Student 模型\n",
    "student_model.train()\n",
    "epochs = 5\n",
    "for epoch in range(epochs):\n",
    "    for images, labels in tqdm(train_loader, desc='Epoch {}/{}'.format(epoch + 1, epochs)):\n",
    "        images = images.to(device)\n",
    "        labels = labels.to(device)\n",
    "\n",
    "        with torch.no_grad():\n",
    "            # Teacher 模型的预测结果\n",
    "            teacher_preds = teacher_model(images)\n",
    "\n",
    "        # 前向传播\n",
    "        student_preds = student_model(images)\n",
    "        student_loss = hard_loss(student_preds, labels)\n",
    "        distillation_loss = soft_loss(\n",
    "            torch.softmax(student_preds / temperature, dim=1),\n",
    "            torch.softmax(teacher_preds / temperature, dim=1)\n",
    "        )\n",
    "        loss = alpha * student_loss + (1 - alpha) * distillation_loss\n",
    "\n",
    "        # 反向传播\n",
    "        optimizer.zero_grad()\n",
    "        loss.backward()\n",
    "        optimizer.step()"
   ]
  },
  {
   "cell_type": "code",
   "execution_count": 18,
   "metadata": {},
   "outputs": [
    {
     "name": "stderr",
     "output_type": "stream",
     "text": [
      "100%|██████████| 313/313 [00:02<00:00, 150.55it/s]"
     ]
    },
    {
     "name": "stdout",
     "output_type": "stream",
     "text": [
      "使用知识蒸馏训练的 Student 模型预测正确的数量为: 9332\n"
     ]
    },
    {
     "name": "stderr",
     "output_type": "stream",
     "text": [
      "\n"
     ]
    }
   ],
   "source": [
    "# 评估 Student 模型\n",
    "student_model.eval()\n",
    "num_correct = 0\n",
    "with torch.no_grad():\n",
    "    for images, labels in tqdm(test_loader):\n",
    "        images = images.to(device)\n",
    "        labels = labels.to(device)\n",
    "\n",
    "        preds = student_model(images)\n",
    "        num_correct += preds.argmax(dim=1).eq(labels).sum().item()\n",
    "\n",
    "    print('使用知识蒸馏训练的 Student 模型预测正确的数量为: {}'.format(num_correct))"
   ]
  }
 ],
 "metadata": {
  "interpreter": {
   "hash": "b6adc31f0bd91cf2d7560ebe3eb520ed63ca9a9058ded11183632e1d9b147811"
  },
  "kernelspec": {
   "display_name": "Python 3.6.11 ('pytorch')",
   "language": "python",
   "name": "python3"
  },
  "language_info": {
   "codemirror_mode": {
    "name": "ipython",
    "version": 3
   },
   "file_extension": ".py",
   "mimetype": "text/x-python",
   "name": "python",
   "nbconvert_exporter": "python",
   "pygments_lexer": "ipython3",
   "version": "3.6.11"
  },
  "orig_nbformat": 4
 },
 "nbformat": 4,
 "nbformat_minor": 2
}
